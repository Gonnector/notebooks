{
 "cells": [
  {
   "cell_type": "code",
   "execution_count": 3,
   "metadata": {
    "collapsed": true
   },
   "outputs": [],
   "source": [
    "import gcp.bigquery as bq\n"
   ]
  },
  {
   "cell_type": "code",
   "execution_count": 1,
   "metadata": {
    "collapsed": true
   },
   "outputs": [],
   "source": [
    "%%sql --module hn\n",
    "\n",
    "DEFINE QUERY top_types\n",
    "SELECT type, COUNT(*) c\n",
    "FROM [fh-bigquery:hackernews.full_201510] \n",
    "GROUP BY 1\n",
    "ORDER BY 2 \n",
    "LIMIT 100\n",
    "\n",
    "DEFINE QUERY counts\n",
    "SELECT a.month month, stories, comments, comment_authors, story_authors\n",
    "FROM (\n",
    "  SELECT STRFTIME_UTC_USEC(time_ts, '%Y-%m') month, COUNT(*) stories, EXACT_COUNT_DISTINCT(author) story_authors\n",
    "  FROM [fh-bigquery:hackernews.stories] \n",
    "  GROUP BY 1\n",
    ") a\n",
    "JOIN (\n",
    "  SELECT STRFTIME_UTC_USEC(time_ts, '%Y-%m') month, COUNT(*) comments, EXACT_COUNT_DISTINCT(author) comment_authors\n",
    "  FROM [fh-bigquery:hackernews.comments] \n",
    "  GROUP BY 1\n",
    ") b\n",
    "ON a.month=b.month\n",
    "ORDER BY 1\n",
    "\n",
    "DEFINE QUERY score_per_hour\n",
    "SELECT HOUR(SEC_TO_TIMESTAMP(time-3600*8)) hour, COUNT(*) stories, AVG(score) avg_score, SUM(score>30)/COUNT(*) prob\n",
    "FROM [fh-bigquery:hackernews.stories] \n",
    "WHERE YEAR(time_ts)=2015\n",
    "GROUP BY 1\n",
    "ORDER BY 1\n",
    "\n",
    "DEFINE QUERY comments_per_hour\n",
    "SELECT HOUR(SEC_TO_TIMESTAMP(time-3600*8)) hour, COUNT(*) comments, AVG(ranking) avg_ranking, SUM(ranking<4)/COUNT(*) prob\n",
    "FROM [fh-bigquery:hackernews.comments] \n",
    "WHERE YEAR(time_ts)=2015\n",
    "GROUP BY 1\n",
    "ORDER BY 1\n"
   ]
  },
  {
   "cell_type": "code",
   "execution_count": null,
   "metadata": {
    "collapsed": true
   },
   "outputs": [],
   "source": []
  },
  {
   "cell_type": "code",
   "execution_count": 4,
   "metadata": {
    "collapsed": false
   },
   "outputs": [
    {
     "data": {
      "text/html": [
       "<div>\n",
       "<table border=\"1\" class=\"dataframe\">\n",
       "  <thead>\n",
       "    <tr style=\"text-align: right;\">\n",
       "      <th></th>\n",
       "      <th>type</th>\n",
       "      <th>c</th>\n",
       "    </tr>\n",
       "  </thead>\n",
       "  <tbody>\n",
       "    <tr>\n",
       "      <th>0</th>\n",
       "      <td>poll</td>\n",
       "      <td>1616</td>\n",
       "    </tr>\n",
       "    <tr>\n",
       "      <th>1</th>\n",
       "      <td>job</td>\n",
       "      <td>6357</td>\n",
       "    </tr>\n",
       "    <tr>\n",
       "      <th>2</th>\n",
       "      <td>pollopt</td>\n",
       "      <td>11088</td>\n",
       "    </tr>\n",
       "    <tr>\n",
       "      <th>3</th>\n",
       "      <td>story</td>\n",
       "      <td>1959809</td>\n",
       "    </tr>\n",
       "    <tr>\n",
       "      <th>4</th>\n",
       "      <td>comment_ranking</td>\n",
       "      <td>8399638</td>\n",
       "    </tr>\n",
       "    <tr>\n",
       "      <th>5</th>\n",
       "      <td>comment</td>\n",
       "      <td>8399919</td>\n",
       "    </tr>\n",
       "  </tbody>\n",
       "</table>\n",
       "</div>"
      ],
      "text/plain": [
       "              type        c\n",
       "0             poll     1616\n",
       "1              job     6357\n",
       "2          pollopt    11088\n",
       "3            story  1959809\n",
       "4  comment_ranking  8399638\n",
       "5          comment  8399919"
      ]
     },
     "execution_count": 4,
     "metadata": {},
     "output_type": "execute_result"
    }
   ],
   "source": [
    "bq.Query(hn.top_types).to_dataframe()"
   ]
  },
  {
   "cell_type": "code",
   "execution_count": 5,
   "metadata": {
    "collapsed": true
   },
   "outputs": [],
   "source": [
    "data=bq.Query(hn.counts).to_dataframe()[0:-1]"
   ]
  },
  {
   "cell_type": "code",
   "execution_count": 6,
   "metadata": {
    "collapsed": false
   },
   "outputs": [
    {
     "data": {
      "text/html": [
       "\n",
       "    <div class=\"bqgc\" id=\"1_144559504375\">\n",
       "    </div>\n",
       "    <script>\n",
       "      require(['extensions/charting', 'element!1_144559504375', 'style!/static/extensions/charting.css'],\n",
       "        function(charts, dom) {\n",
       "          charts.render(dom, {chartStyle:'line', dataName:'0', fields:'month,stories,comments'}, {\"hAxis\": {\"titleTextStyle\": {\"color\": \"#777777\"}, \"title\": \"by twitter.com/felipehoffa, learn more at reddit.com/r/bigquery\"}, \"titlePosition\": \"in\", \"title\": \"Hacker News comments and stories count | October 2010 - September 2015 \", \"curveType\": \"function\", \"legend\": {\"position\": \"in\"}, \"height\": 600}, {\"rows\": [{\"c\": [{\"v\": \"2006-10\"}, {\"v\": 49}, {\"v\": 12}]}, {\"c\": [{\"v\": \"2007-02\"}, {\"v\": 564}, {\"v\": 985}]}, {\"c\": [{\"v\": \"2007-03\"}, {\"v\": 1784}, {\"v\": 4521}]}, {\"c\": [{\"v\": \"2007-04\"}, {\"v\": 2188}, {\"v\": 8147}]}, {\"c\": [{\"v\": \"2007-05\"}, {\"v\": 2070}, {\"v\": 5446}]}, {\"c\": [{\"v\": \"2007-06\"}, {\"v\": 1537}, {\"v\": 4492}]}, {\"c\": [{\"v\": \"2007-07\"}, {\"v\": 1748}, {\"v\": 4658}]}, {\"c\": [{\"v\": \"2007-08\"}, {\"v\": 2642}, {\"v\": 8197}]}, {\"c\": [{\"v\": \"2007-09\"}, {\"v\": 2572}, {\"v\": 9795}]}, {\"c\": [{\"v\": \"2007-10\"}, {\"v\": 2916}, {\"v\": 10534}]}, {\"c\": [{\"v\": \"2007-11\"}, {\"v\": 2497}, {\"v\": 7691}]}, {\"c\": [{\"v\": \"2007-12\"}, {\"v\": 2351}, {\"v\": 6392}]}, {\"c\": [{\"v\": \"2008-01\"}, {\"v\": 3448}, {\"v\": 9940}]}, {\"c\": [{\"v\": \"2008-02\"}, {\"v\": 4323}, {\"v\": 14406}]}, {\"c\": [{\"v\": \"2008-03\"}, {\"v\": 5358}, {\"v\": 19486}]}, {\"c\": [{\"v\": \"2008-04\"}, {\"v\": 5669}, {\"v\": 20516}]}, {\"c\": [{\"v\": \"2008-05\"}, {\"v\": 6014}, {\"v\": 21459}]}, {\"c\": [{\"v\": \"2008-06\"}, {\"v\": 6204}, {\"v\": 20678}]}, {\"c\": [{\"v\": \"2008-07\"}, {\"v\": 7151}, {\"v\": 23782}]}, {\"c\": [{\"v\": \"2008-08\"}, {\"v\": 6583}, {\"v\": 21324}]}, {\"c\": [{\"v\": \"2008-09\"}, {\"v\": 6915}, {\"v\": 21628}]}, {\"c\": [{\"v\": \"2008-10\"}, {\"v\": 7395}, {\"v\": 22482}]}, {\"c\": [{\"v\": \"2008-11\"}, {\"v\": 6472}, {\"v\": 24231}]}, {\"c\": [{\"v\": \"2008-12\"}, {\"v\": 6742}, {\"v\": 27990}]}, {\"c\": [{\"v\": \"2009-01\"}, {\"v\": 8014}, {\"v\": 36141}]}, {\"c\": [{\"v\": \"2009-02\"}, {\"v\": 7752}, {\"v\": 30477}]}, {\"c\": [{\"v\": \"2009-03\"}, {\"v\": 8858}, {\"v\": 33311}]}, {\"c\": [{\"v\": \"2009-04\"}, {\"v\": 8671}, {\"v\": 37704}]}, {\"c\": [{\"v\": \"2009-05\"}, {\"v\": 8879}, {\"v\": 38344}]}, {\"c\": [{\"v\": \"2009-06\"}, {\"v\": 8850}, {\"v\": 37589}]}, {\"c\": [{\"v\": \"2009-07\"}, {\"v\": 10023}, {\"v\": 43598}]}, {\"c\": [{\"v\": \"2009-08\"}, {\"v\": 10832}, {\"v\": 50259}]}, {\"c\": [{\"v\": \"2009-09\"}, {\"v\": 10623}, {\"v\": 46273}]}, {\"c\": [{\"v\": \"2009-10\"}, {\"v\": 11080}, {\"v\": 48973}]}, {\"c\": [{\"v\": \"2009-11\"}, {\"v\": 10821}, {\"v\": 43266}]}, {\"c\": [{\"v\": \"2009-12\"}, {\"v\": 10962}, {\"v\": 45149}]}, {\"c\": [{\"v\": \"2010-01\"}, {\"v\": 12698}, {\"v\": 53308}]}, {\"c\": [{\"v\": \"2010-02\"}, {\"v\": 13071}, {\"v\": 53206}]}, {\"c\": [{\"v\": \"2010-03\"}, {\"v\": 14025}, {\"v\": 61275}]}, {\"c\": [{\"v\": \"2010-04\"}, {\"v\": 14060}, {\"v\": 62241}]}, {\"c\": [{\"v\": \"2010-05\"}, {\"v\": 14940}, {\"v\": 68979}]}, {\"c\": [{\"v\": \"2010-06\"}, {\"v\": 14315}, {\"v\": 68289}]}, {\"c\": [{\"v\": \"2010-07\"}, {\"v\": 14899}, {\"v\": 72810}]}, {\"c\": [{\"v\": \"2010-08\"}, {\"v\": 15746}, {\"v\": 70972}]}, {\"c\": [{\"v\": \"2010-09\"}, {\"v\": 16572}, {\"v\": 77353}]}, {\"c\": [{\"v\": \"2010-10\"}, {\"v\": 18451}, {\"v\": 90511}]}, {\"c\": [{\"v\": \"2010-11\"}, {\"v\": 18786}, {\"v\": 82344}]}, {\"c\": [{\"v\": \"2010-12\"}, {\"v\": 19348}, {\"v\": 81128}]}, {\"c\": [{\"v\": \"2011-01\"}, {\"v\": 20489}, {\"v\": 85880}]}, {\"c\": [{\"v\": \"2011-02\"}, {\"v\": 20125}, {\"v\": 88930}]}, {\"c\": [{\"v\": \"2011-03\"}, {\"v\": 24208}, {\"v\": 95800}]}, {\"c\": [{\"v\": \"2011-04\"}, {\"v\": 21957}, {\"v\": 85088}]}, {\"c\": [{\"v\": \"2011-05\"}, {\"v\": 22187}, {\"v\": 80786}]}, {\"c\": [{\"v\": \"2011-06\"}, {\"v\": 23269}, {\"v\": 87194}]}, {\"c\": [{\"v\": \"2011-07\"}, {\"v\": 24072}, {\"v\": 89177}]}, {\"c\": [{\"v\": \"2011-08\"}, {\"v\": 27798}, {\"v\": 89775}]}, {\"c\": [{\"v\": \"2011-09\"}, {\"v\": 29954}, {\"v\": 80623}]}, {\"c\": [{\"v\": \"2011-10\"}, {\"v\": 30489}, {\"v\": 89798}]}, {\"c\": [{\"v\": \"2011-11\"}, {\"v\": 32159}, {\"v\": 85365}]}, {\"c\": [{\"v\": \"2011-12\"}, {\"v\": 27787}, {\"v\": 86463}]}, {\"c\": [{\"v\": \"2012-01\"}, {\"v\": 29297}, {\"v\": 93515}]}, {\"c\": [{\"v\": \"2012-02\"}, {\"v\": 27102}, {\"v\": 86880}]}, {\"c\": [{\"v\": \"2012-03\"}, {\"v\": 31406}, {\"v\": 99446}]}, {\"c\": [{\"v\": \"2012-04\"}, {\"v\": 30109}, {\"v\": 99687}]}, {\"c\": [{\"v\": \"2012-05\"}, {\"v\": 31190}, {\"v\": 107419}]}, {\"c\": [{\"v\": \"2012-06\"}, {\"v\": 27025}, {\"v\": 104625}]}, {\"c\": [{\"v\": \"2012-07\"}, {\"v\": 28798}, {\"v\": 107973}]}, {\"c\": [{\"v\": \"2012-08\"}, {\"v\": 26232}, {\"v\": 115309}]}, {\"c\": [{\"v\": \"2012-09\"}, {\"v\": 22922}, {\"v\": 109469}]}, {\"c\": [{\"v\": \"2012-10\"}, {\"v\": 24631}, {\"v\": 106022}]}, {\"c\": [{\"v\": \"2012-11\"}, {\"v\": 24534}, {\"v\": 105688}]}, {\"c\": [{\"v\": \"2012-12\"}, {\"v\": 23920}, {\"v\": 110728}]}, {\"c\": [{\"v\": \"2013-01\"}, {\"v\": 27719}, {\"v\": 128730}]}, {\"c\": [{\"v\": \"2013-02\"}, {\"v\": 26773}, {\"v\": 126277}]}, {\"c\": [{\"v\": \"2013-03\"}, {\"v\": 28505}, {\"v\": 139811}]}, {\"c\": [{\"v\": \"2013-04\"}, {\"v\": 28025}, {\"v\": 136164}]}, {\"c\": [{\"v\": \"2013-05\"}, {\"v\": 27883}, {\"v\": 137663}]}, {\"c\": [{\"v\": \"2013-06\"}, {\"v\": 27621}, {\"v\": 137284}]}, {\"c\": [{\"v\": \"2013-07\"}, {\"v\": 27295}, {\"v\": 141862}]}, {\"c\": [{\"v\": \"2013-08\"}, {\"v\": 27048}, {\"v\": 143432}]}, {\"c\": [{\"v\": \"2013-09\"}, {\"v\": 26112}, {\"v\": 138185}]}, {\"c\": [{\"v\": \"2013-10\"}, {\"v\": 28366}, {\"v\": 148423}]}, {\"c\": [{\"v\": \"2013-11\"}, {\"v\": 27994}, {\"v\": 145785}]}, {\"c\": [{\"v\": \"2013-12\"}, {\"v\": 25925}, {\"v\": 141564}]}, {\"c\": [{\"v\": \"2014-01\"}, {\"v\": 27625}, {\"v\": 138167}]}, {\"c\": [{\"v\": \"2014-02\"}, {\"v\": 26418}, {\"v\": 135274}]}, {\"c\": [{\"v\": \"2014-03\"}, {\"v\": 29447}, {\"v\": 152858}]}, {\"c\": [{\"v\": \"2014-04\"}, {\"v\": 27430}, {\"v\": 143825}]}, {\"c\": [{\"v\": \"2014-05\"}, {\"v\": 25829}, {\"v\": 123800}]}, {\"c\": [{\"v\": \"2014-06\"}, {\"v\": 24134}, {\"v\": 115647}]}, {\"c\": [{\"v\": \"2014-07\"}, {\"v\": 25508}, {\"v\": 122871}]}, {\"c\": [{\"v\": \"2014-08\"}, {\"v\": 23664}, {\"v\": 109092}]}, {\"c\": [{\"v\": \"2014-09\"}, {\"v\": 25014}, {\"v\": 115758}]}, {\"c\": [{\"v\": \"2014-10\"}, {\"v\": 26211}, {\"v\": 122957}]}, {\"c\": [{\"v\": \"2014-11\"}, {\"v\": 24041}, {\"v\": 112600}]}, {\"c\": [{\"v\": \"2014-12\"}, {\"v\": 24416}, {\"v\": 117965}]}, {\"c\": [{\"v\": \"2015-01\"}, {\"v\": 27120}, {\"v\": 127514}]}, {\"c\": [{\"v\": \"2015-02\"}, {\"v\": 25861}, {\"v\": 119610}]}, {\"c\": [{\"v\": \"2015-03\"}, {\"v\": 29661}, {\"v\": 144081}]}, {\"c\": [{\"v\": \"2015-04\"}, {\"v\": 29077}, {\"v\": 137557}]}, {\"c\": [{\"v\": \"2015-05\"}, {\"v\": 27992}, {\"v\": 138405}]}, {\"c\": [{\"v\": \"2015-06\"}, {\"v\": 27889}, {\"v\": 143234}]}, {\"c\": [{\"v\": \"2015-07\"}, {\"v\": 29298}, {\"v\": 145595}]}, {\"c\": [{\"v\": \"2015-08\"}, {\"v\": 27638}, {\"v\": 136337}]}, {\"c\": [{\"v\": \"2015-09\"}, {\"v\": 29228}, {\"v\": 128711}]}], \"cols\": [{\"type\": \"string\", \"id\": \"month\", \"label\": \"month\"}, {\"type\": \"number\", \"id\": \"stories\", \"label\": \"stories\"}, {\"type\": \"number\", \"id\": \"comments\", \"label\": \"comments\"}]});\n",
       "        }\n",
       "      );\n",
       "    </script>\n",
       "  "
      ],
      "text/plain": [
       "<IPython.core.display.HTML object>"
      ]
     },
     "execution_count": 6,
     "metadata": {},
     "output_type": "execute_result"
    }
   ],
   "source": [
    "%%chart line --fields month,stories,comments --data data\n",
    "height: 600\n",
    "curveType: 'function'\n",
    "legend: {position: 'in'}\n",
    "title: 'Hacker News comments and stories count | October 2010 - September 2015 '\n",
    "titlePosition: 'in'\n",
    "\n",
    "  \n",
    "hAxis: {title: 'by twitter.com/felipehoffa, learn more at reddit.com/r/bigquery', titleTextStyle: {color: '#777777'}}\n"
   ]
  },
  {
   "cell_type": "code",
   "execution_count": 7,
   "metadata": {
    "collapsed": false
   },
   "outputs": [
    {
     "data": {
      "text/html": [
       "\n",
       "    <div class=\"bqgc\" id=\"2_144559505424\">\n",
       "    </div>\n",
       "    <script>\n",
       "      require(['extensions/charting', 'element!2_144559505424', 'style!/static/extensions/charting.css'],\n",
       "        function(charts, dom) {\n",
       "          charts.render(dom, {chartStyle:'line', dataName:'1', fields:'hour,prob'}, {\"legend\": {\"position\": \"in\"}, \"title\": \"Probability of having a HN story with score>30 - 2015 - UTC-8 tz\"}, {\"rows\": [{\"c\": [{\"v\": 0}, {\"v\": 0.06291693917593198}]}, {\"c\": [{\"v\": 1}, {\"v\": 0.06309223941465755}]}, {\"c\": [{\"v\": 2}, {\"v\": 0.06736366876559344}]}, {\"c\": [{\"v\": 3}, {\"v\": 0.06954288649203903}]}, {\"c\": [{\"v\": 4}, {\"v\": 0.07847760188615696}]}, {\"c\": [{\"v\": 5}, {\"v\": 0.07871819295142196}]}, {\"c\": [{\"v\": 6}, {\"v\": 0.07969406819243344}]}, {\"c\": [{\"v\": 7}, {\"v\": 0.07549718979680069}]}, {\"c\": [{\"v\": 8}, {\"v\": 0.07571634384504562}]}, {\"c\": [{\"v\": 9}, {\"v\": 0.08009166107757656}]}, {\"c\": [{\"v\": 10}, {\"v\": 0.06936450839328537}]}, {\"c\": [{\"v\": 11}, {\"v\": 0.06959280119116981}]}, {\"c\": [{\"v\": 12}, {\"v\": 0.06308492201039861}]}, {\"c\": [{\"v\": 13}, {\"v\": 0.05994550408719346}]}, {\"c\": [{\"v\": 14}, {\"v\": 0.059473000556689554}]}, {\"c\": [{\"v\": 15}, {\"v\": 0.06126864821774285}]}, {\"c\": [{\"v\": 16}, {\"v\": 0.06874585268745853}]}, {\"c\": [{\"v\": 17}, {\"v\": 0.07685393258426966}]}, {\"c\": [{\"v\": 18}, {\"v\": 0.08100558659217877}]}, {\"c\": [{\"v\": 19}, {\"v\": 0.08992}]}, {\"c\": [{\"v\": 20}, {\"v\": 0.08572309589885908}]}, {\"c\": [{\"v\": 21}, {\"v\": 0.08066037735849056}]}, {\"c\": [{\"v\": 22}, {\"v\": 0.08241758241758242}]}, {\"c\": [{\"v\": 23}, {\"v\": 0.07390396659707725}]}], \"cols\": [{\"type\": \"number\", \"id\": \"hour\", \"label\": \"hour\"}, {\"type\": \"number\", \"id\": \"prob\", \"label\": \"prob\"}]});\n",
       "        }\n",
       "      );\n",
       "    </script>\n",
       "  "
      ],
      "text/plain": [
       "<IPython.core.display.HTML object>"
      ]
     },
     "execution_count": 7,
     "metadata": {},
     "output_type": "execute_result"
    }
   ],
   "source": [
    "%%chart line --fields hour,prob --data hn.score_per_hour\n",
    "title: \"Probability of having a HN story with score>30 - 2015 - UTC-8 tz\"\n",
    "legend: {position: 'in'}\n"
   ]
  },
  {
   "cell_type": "code",
   "execution_count": 8,
   "metadata": {
    "collapsed": false
   },
   "outputs": [
    {
     "data": {
      "text/html": [
       "\n",
       "    <div class=\"bqgc\" id=\"3_144559505794\">\n",
       "    </div>\n",
       "    <script>\n",
       "      require(['extensions/charting', 'element!3_144559505794', 'style!/static/extensions/charting.css'],\n",
       "        function(charts, dom) {\n",
       "          charts.render(dom, {chartStyle:'line', dataName:'1', fields:'hour,avg_score'}, {\"legend\": {\"position\": \"in\"}, \"title\": \"Average score of HN stories - 2015 - UTC-8 tz\"}, {\"rows\": [{\"c\": [{\"v\": 0}, {\"v\": 9.386911281489594}]}, {\"c\": [{\"v\": 1}, {\"v\": 9.798600699650175}]}, {\"c\": [{\"v\": 2}, {\"v\": 10.373438852479287}]}, {\"c\": [{\"v\": 3}, {\"v\": 11.415378006872853}]}, {\"c\": [{\"v\": 4}, {\"v\": 11.890409756953584}]}, {\"c\": [{\"v\": 5}, {\"v\": 12.166380666380666}]}, {\"c\": [{\"v\": 6}, {\"v\": 12.550709566919501}]}, {\"c\": [{\"v\": 7}, {\"v\": 12.03933923705722}]}, {\"c\": [{\"v\": 8}, {\"v\": 12.531055377882511}]}, {\"c\": [{\"v\": 9}, {\"v\": 13.414450900980219}]}, {\"c\": [{\"v\": 10}, {\"v\": 11.804970116388802}]}, {\"c\": [{\"v\": 11}, {\"v\": 11.970534069981584}]}, {\"c\": [{\"v\": 12}, {\"v\": 10.643117526975795}]}, {\"c\": [{\"v\": 13}, {\"v\": 9.770663370416152}]}, {\"c\": [{\"v\": 14}, {\"v\": 10.080214948705423}]}, {\"c\": [{\"v\": 15}, {\"v\": 10.65543792107796}]}, {\"c\": [{\"v\": 16}, {\"v\": 11.2606813739179}]}, {\"c\": [{\"v\": 17}, {\"v\": 12.682341802114566}]}, {\"c\": [{\"v\": 18}, {\"v\": 12.200616332819722}]}, {\"c\": [{\"v\": 19}, {\"v\": 13.0}]}, {\"c\": [{\"v\": 20}, {\"v\": 12.509749756256094}]}, {\"c\": [{\"v\": 21}, {\"v\": 11.557168784029038}]}, {\"c\": [{\"v\": 22}, {\"v\": 11.72730114080325}]}, {\"c\": [{\"v\": 23}, {\"v\": 11.121720116618075}]}], \"cols\": [{\"type\": \"number\", \"id\": \"hour\", \"label\": \"hour\"}, {\"type\": \"number\", \"id\": \"avg_score\", \"label\": \"avg_score\"}]});\n",
       "        }\n",
       "      );\n",
       "    </script>\n",
       "  "
      ],
      "text/plain": [
       "<IPython.core.display.HTML object>"
      ]
     },
     "execution_count": 8,
     "metadata": {},
     "output_type": "execute_result"
    }
   ],
   "source": [
    "%%chart line --fields hour,avg_score --data hn.score_per_hour\n",
    "title: \"Average score of HN stories - 2015 - UTC-8 tz\"\n",
    "legend: {position: 'in'}\n"
   ]
  },
  {
   "cell_type": "code",
   "execution_count": 9,
   "metadata": {
    "collapsed": false
   },
   "outputs": [
    {
     "data": {
      "text/html": [
       "\n",
       "    <div class=\"bqgc\" id=\"4_144559506087\">\n",
       "    </div>\n",
       "    <script>\n",
       "      require(['extensions/charting', 'element!4_144559506087', 'style!/static/extensions/charting.css'],\n",
       "        function(charts, dom) {\n",
       "          charts.render(dom, {chartStyle:'line', dataName:'2', fields:'hour,comments'}, {\"legend\": {\"position\": \"in\"}, \"title\": \"Number of comments by time posted- 2015 - UTC-8 tz\"}, {\"rows\": [{\"c\": [{\"v\": 0}, {\"v\": 32046}]}, {\"c\": [{\"v\": 1}, {\"v\": 32491}]}, {\"c\": [{\"v\": 2}, {\"v\": 32241}]}, {\"c\": [{\"v\": 3}, {\"v\": 36046}]}, {\"c\": [{\"v\": 4}, {\"v\": 46017}]}, {\"c\": [{\"v\": 5}, {\"v\": 61455}]}, {\"c\": [{\"v\": 6}, {\"v\": 73998}]}, {\"c\": [{\"v\": 7}, {\"v\": 82296}]}, {\"c\": [{\"v\": 8}, {\"v\": 85741}]}, {\"c\": [{\"v\": 9}, {\"v\": 86728}]}, {\"c\": [{\"v\": 10}, {\"v\": 85206}]}, {\"c\": [{\"v\": 11}, {\"v\": 79487}]}, {\"c\": [{\"v\": 12}, {\"v\": 76506}]}, {\"c\": [{\"v\": 13}, {\"v\": 70864}]}, {\"c\": [{\"v\": 14}, {\"v\": 60760}]}, {\"c\": [{\"v\": 15}, {\"v\": 51743}]}, {\"c\": [{\"v\": 16}, {\"v\": 45484}]}, {\"c\": [{\"v\": 17}, {\"v\": 41156}]}, {\"c\": [{\"v\": 18}, {\"v\": 37895}]}, {\"c\": [{\"v\": 19}, {\"v\": 35352}]}, {\"c\": [{\"v\": 20}, {\"v\": 33878}]}, {\"c\": [{\"v\": 21}, {\"v\": 31098}]}, {\"c\": [{\"v\": 22}, {\"v\": 30158}]}, {\"c\": [{\"v\": 23}, {\"v\": 30845}]}], \"cols\": [{\"type\": \"number\", \"id\": \"hour\", \"label\": \"hour\"}, {\"type\": \"number\", \"id\": \"comments\", \"label\": \"comments\"}]});\n",
       "        }\n",
       "      );\n",
       "    </script>\n",
       "  "
      ],
      "text/plain": [
       "<IPython.core.display.HTML object>"
      ]
     },
     "execution_count": 9,
     "metadata": {},
     "output_type": "execute_result"
    }
   ],
   "source": [
    "%%chart line --fields hour,comments --data hn.comments_per_hour\n",
    "title: \"Number of comments by time posted- 2015 - UTC-8 tz\"\n",
    "legend: {position: 'in'}\n"
   ]
  },
  {
   "cell_type": "code",
   "execution_count": 10,
   "metadata": {
    "collapsed": false
   },
   "outputs": [
    {
     "data": {
      "text/html": [
       "\n",
       "    <div class=\"bqgc\" id=\"5_144559506478\">\n",
       "    </div>\n",
       "    <script>\n",
       "      require(['extensions/charting', 'element!5_144559506478', 'style!/static/extensions/charting.css'],\n",
       "        function(charts, dom) {\n",
       "          charts.render(dom, {chartStyle:'line', dataName:'2', fields:'hour,avg_ranking'}, {\"legend\": {\"position\": \"in\"}, \"title\": \"Average ranking of comments by time posted- 2015 - UTC-8 tz\"}, {\"rows\": [{\"c\": [{\"v\": 0}, {\"v\": 3.8909380265867815}]}, {\"c\": [{\"v\": 1}, {\"v\": 4.001785109722692}]}, {\"c\": [{\"v\": 2}, {\"v\": 3.967153624267237}]}, {\"c\": [{\"v\": 3}, {\"v\": 3.8205071297786164}]}, {\"c\": [{\"v\": 4}, {\"v\": 3.578373209900689}]}, {\"c\": [{\"v\": 5}, {\"v\": 4.120299406069481}]}, {\"c\": [{\"v\": 6}, {\"v\": 5.111854374442553}]}, {\"c\": [{\"v\": 7}, {\"v\": 7.3526538349373}]}, {\"c\": [{\"v\": 8}, {\"v\": 7.750889306166245}]}, {\"c\": [{\"v\": 9}, {\"v\": 7.496241121667743}]}, {\"c\": [{\"v\": 10}, {\"v\": 6.3120906978381806}]}, {\"c\": [{\"v\": 11}, {\"v\": 5.474002038069118}]}, {\"c\": [{\"v\": 12}, {\"v\": 4.911680129663033}]}, {\"c\": [{\"v\": 13}, {\"v\": 5.022126890946037}]}, {\"c\": [{\"v\": 14}, {\"v\": 4.552583936800526}]}, {\"c\": [{\"v\": 15}, {\"v\": 3.8737800282163772}]}, {\"c\": [{\"v\": 16}, {\"v\": 4.027394248526955}]}, {\"c\": [{\"v\": 17}, {\"v\": 3.9335941296530277}]}, {\"c\": [{\"v\": 18}, {\"v\": 3.578809869375907}]}, {\"c\": [{\"v\": 19}, {\"v\": 3.9064833672776644}]}, {\"c\": [{\"v\": 20}, {\"v\": 4.108890725544601}]}, {\"c\": [{\"v\": 21}, {\"v\": 3.832818830792977}]}, {\"c\": [{\"v\": 22}, {\"v\": 4.061476225213873}]}, {\"c\": [{\"v\": 23}, {\"v\": 3.9674501539957854}]}], \"cols\": [{\"type\": \"number\", \"id\": \"hour\", \"label\": \"hour\"}, {\"type\": \"number\", \"id\": \"avg_ranking\", \"label\": \"avg_ranking\"}]});\n",
       "        }\n",
       "      );\n",
       "    </script>\n",
       "  "
      ],
      "text/plain": [
       "<IPython.core.display.HTML object>"
      ]
     },
     "execution_count": 10,
     "metadata": {},
     "output_type": "execute_result"
    }
   ],
   "source": [
    "%%chart line --fields hour,avg_ranking --data hn.comments_per_hour\n",
    "title: \"Average ranking of comments by time posted- 2015 - UTC-8 tz\"\n",
    "legend: {position: 'in'}\n"
   ]
  },
  {
   "cell_type": "code",
   "execution_count": 11,
   "metadata": {
    "collapsed": false
   },
   "outputs": [
    {
     "data": {
      "text/html": [
       "\n",
       "    <div class=\"bqgc\" id=\"6_144559507021\">\n",
       "    </div>\n",
       "    <script>\n",
       "      require(['extensions/charting', 'element!6_144559507021', 'style!/static/extensions/charting.css'],\n",
       "        function(charts, dom) {\n",
       "          charts.render(dom, {chartStyle:'line', dataName:'2', fields:'hour,prob'}, {\"legend\": {\"position\": \"in\"}, \"title\": \"Probability of having a top 3 comment by time posted - 2015 - UTC-8 tz\"}, {\"rows\": [{\"c\": [{\"v\": 0}, {\"v\": 0.8014416775884666}]}, {\"c\": [{\"v\": 1}, {\"v\": 0.7973592687205687}]}, {\"c\": [{\"v\": 2}, {\"v\": 0.7942371514531187}]}, {\"c\": [{\"v\": 3}, {\"v\": 0.7958164567497087}]}, {\"c\": [{\"v\": 4}, {\"v\": 0.7950974639807028}]}, {\"c\": [{\"v\": 5}, {\"v\": 0.791701244813278}]}, {\"c\": [{\"v\": 6}, {\"v\": 0.7869807292088975}]}, {\"c\": [{\"v\": 7}, {\"v\": 0.7852872557596967}]}, {\"c\": [{\"v\": 8}, {\"v\": 0.7859367163900585}]}, {\"c\": [{\"v\": 9}, {\"v\": 0.791716631307075}]}, {\"c\": [{\"v\": 10}, {\"v\": 0.7970800178391193}]}, {\"c\": [{\"v\": 11}, {\"v\": 0.8051505277592562}]}, {\"c\": [{\"v\": 12}, {\"v\": 0.8132956892269887}]}, {\"c\": [{\"v\": 13}, {\"v\": 0.8139675999096861}]}, {\"c\": [{\"v\": 14}, {\"v\": 0.8184990125082291}]}, {\"c\": [{\"v\": 15}, {\"v\": 0.8221981717333746}]}, {\"c\": [{\"v\": 16}, {\"v\": 0.8190572509014159}]}, {\"c\": [{\"v\": 17}, {\"v\": 0.8193944989794927}]}, {\"c\": [{\"v\": 18}, {\"v\": 0.8174165457184325}]}, {\"c\": [{\"v\": 19}, {\"v\": 0.8111280832767594}]}, {\"c\": [{\"v\": 20}, {\"v\": 0.8083712143574001}]}, {\"c\": [{\"v\": 21}, {\"v\": 0.8067399832786675}]}, {\"c\": [{\"v\": 22}, {\"v\": 0.8023078453478347}]}, {\"c\": [{\"v\": 23}, {\"v\": 0.8010698654563139}]}], \"cols\": [{\"type\": \"number\", \"id\": \"hour\", \"label\": \"hour\"}, {\"type\": \"number\", \"id\": \"prob\", \"label\": \"prob\"}]});\n",
       "        }\n",
       "      );\n",
       "    </script>\n",
       "  "
      ],
      "text/plain": [
       "<IPython.core.display.HTML object>"
      ]
     },
     "execution_count": 11,
     "metadata": {},
     "output_type": "execute_result"
    }
   ],
   "source": [
    "%%chart line --fields hour,prob --data hn.comments_per_hour\n",
    "title: \"Probability of having a top 3 comment by time posted - 2015 - UTC-8 tz\"\n",
    "legend: {position: 'in'}\n"
   ]
  }
 ],
 "metadata": {
  "kernelspec": {
   "display_name": "Python 2",
   "language": "python",
   "name": "python2"
  },
  "language_info": {
   "codemirror_mode": {
    "name": "ipython",
    "version": 2
   },
   "file_extension": ".py",
   "mimetype": "text/x-python",
   "name": "python",
   "nbconvert_exporter": "python",
   "pygments_lexer": "ipython2",
   "version": "2.7.9"
  }
 },
 "nbformat": 4,
 "nbformat_minor": 0
}

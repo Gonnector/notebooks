{
 "metadata": {
  "name": "",
  "signature": "sha256:e59be26980c86a31ac9d48f4c2d7103cb8a0b84810433e8cb27d69a296fca9d3"
 },
 "nbformat": 3,
 "nbformat_minor": 0,
 "worksheets": [
  {
   "cells": [
    {
     "cell_type": "markdown",
     "metadata": {},
     "source": [
      "By [Felipe Hoffa](https://plus.google.com/+FelipeHoffa/)\n",
      "([@felipehoffa](http://twitter.com/felipehoffa), [/r/bigquery](http://reddit.com/r/bigquery))\n\n",
      "\n",
      "To look further into how to read these results to understand history, look at:\n\n",
      "* Kalev Leetaru's [GDELT correlations post](http://blog.gdeltproject.org/towards-psychohistory-uncovering-the-patterns-of-world-history-with-google-bigquery/).\n",
      "* Andrew Gelman's [counterpoint](http://andrewgelman.com/2014/08/15/psychohistory-hype-paradox/).\n",
      "* Anthony A. Boyles's [counterpoint](http://aaboyles.com/2014/08/access-event-data-in-google-bigquery-from-r/).\n",
      "\n"
     ]
    },
    {
     "cell_type": "code",
     "collapsed": false,
     "input": [
      "# Some pre-flight work:\n",
      "# - Libraries.\n",
      "# - Patch to handle authentication automatically on Google Compute Engine",
      "from oauth2client.gce import AppAssertionCredentials\n",
      "from bigquery_client import BigqueryClient\n",
      "from pandas.io import gbq\n",
      "import pandas as pd\n",
      "\n",
      "def GetMetadata(path):\n",
      "  import urllib2\n",
      "  BASE_PATH = 'http://metadata/computeMetadata/v1/'\n",
      "  request = urllib2.Request(BASE_PATH + path, headers={'Metadata-Flavor': 'Google'})\n",
      "  return urllib2.urlopen(request).read()\n",
      "\n",
      "credentials = AppAssertionCredentials(scope='https://www.googleapis.com/auth/bigquery')\n",
      "\n",
      "client = BigqueryClient(credentials=credentials,\n",
      "                        api='https://www.googleapis.com',\n",
      "                        api_version='v2',\n",
      "                        project_id=GetMetadata('project/project-id'))\n",
      "\n",
      "gbq._authenticate = lambda: client"
     ],
     "language": "python",
     "metadata": {},
     "outputs": [],
     "prompt_number": 13
    },
    {
     "cell_type": "markdown",
     "metadata": {},
     "source": [
      "How many rows GDELT has for each country?\n",
      "\n",
      "We are going to use a view specially defined for that. 'sample_views.country_date_matconf_numarts' counts the number of material conflicts per day per country.\n",
      "\n",
      "To see the view definition, go to https://bigquery.cloud.google.com/table/gdelt-bq:sample_views.country_date_matconf_numarts and click on 'Details'."
     ]
    },
    {
     "cell_type": "code",
     "collapsed": false,
     "input": [
      "query = \"\"\"\n",
      "SELECT country, SUM(c) AS count\n",
      "FROM [gdelt-bq:sample_views.country_date_matconf_numarts]\n",
      "GROUP BY country\n",
      "ORDER BY count DESC\n",
      "LIMIT 10\n",
      "\"\"\"\n",
      "gbq.read_gbq(query)"
     ],
     "language": "python",
     "metadata": {},
     "outputs": [
      {
       "output_type": "stream",
       "stream": "stdout",
       "text": [
        "\r",
        "Waiting on bqjob_r3494ef2663a3c45e_00000147cc145563_1 ... (0s) Current status: DONE   \n"
       ]
      },
      {
       "html": [
        "<div style=\"max-height:1000px;max-width:1500px;overflow:auto;\">\n",
        "<table border=\"1\" class=\"dataframe\">\n",
        "  <thead>\n",
        "    <tr style=\"text-align: right;\">\n",
        "      <th></th>\n",
        "      <th>country</th>\n",
        "      <th>count</th>\n",
        "    </tr>\n",
        "  </thead>\n",
        "  <tbody>\n",
        "    <tr>\n",
        "      <th>0</th>\n",
        "      <td>         Israel</td>\n",
        "      <td> 13138702</td>\n",
        "    </tr>\n",
        "    <tr>\n",
        "      <th>1</th>\n",
        "      <td>       Pakistan</td>\n",
        "      <td> 11547139</td>\n",
        "    </tr>\n",
        "    <tr>\n",
        "      <th>2</th>\n",
        "      <td>    Afghanistan</td>\n",
        "      <td> 11334579</td>\n",
        "    </tr>\n",
        "    <tr>\n",
        "      <th>3</th>\n",
        "      <td>           Iraq</td>\n",
        "      <td> 10181510</td>\n",
        "    </tr>\n",
        "    <tr>\n",
        "      <th>4</th>\n",
        "      <td>          Syria</td>\n",
        "      <td>  9538310</td>\n",
        "    </tr>\n",
        "    <tr>\n",
        "      <th>5</th>\n",
        "      <td> United Kingdom</td>\n",
        "      <td>  8764009</td>\n",
        "    </tr>\n",
        "    <tr>\n",
        "      <th>6</th>\n",
        "      <td>         Russia</td>\n",
        "      <td>  7569903</td>\n",
        "    </tr>\n",
        "    <tr>\n",
        "      <th>7</th>\n",
        "      <td>          India</td>\n",
        "      <td>  6988340</td>\n",
        "    </tr>\n",
        "    <tr>\n",
        "      <th>8</th>\n",
        "      <td>          Egypt</td>\n",
        "      <td>  6511839</td>\n",
        "    </tr>\n",
        "    <tr>\n",
        "      <th>9</th>\n",
        "      <td>          China</td>\n",
        "      <td>  6268915</td>\n",
        "    </tr>\n",
        "  </tbody>\n",
        "</table>\n",
        "</div>"
       ],
       "metadata": {},
       "output_type": "pyout",
       "prompt_number": 2,
       "text": [
        "          country     count\n",
        "0          Israel  13138702\n",
        "1        Pakistan  11547139\n",
        "2     Afghanistan  11334579\n",
        "3            Iraq  10181510\n",
        "4           Syria   9538310\n",
        "5  United Kingdom   8764009\n",
        "6          Russia   7569903\n",
        "7           India   6988340\n",
        "8           Egypt   6511839\n",
        "9           China   6268915"
       ]
      }
     ],
     "prompt_number": 2
    },
    {
     "cell_type": "markdown",
     "metadata": {},
     "source": [
      "Focusing solely in Egypt. Let's plot the number of material conflicts reported for each day over the last 35 years:"
     ]
    },
    {
     "cell_type": "code",
     "collapsed": false,
     "input": [
      "query = \"\"\"\n",
      "SELECT date, c AS count\n",
      "FROM [gdelt-bq:sample_views.country_date_matconf_numarts]\n",
      "WHERE country='Egypt'\n",
      "ORDER BY date\n",
      "\"\"\"\n",
      "data=gbq.read_gbq(query)\n",
      "data.index=pd.to_datetime(data['date']*1000)\n",
      "x = data['count'].plot()"
     ],
     "language": "python",
     "metadata": {},
     "outputs": [
      {
       "output_type": "stream",
       "stream": "stdout",
       "text": [
        "\r",
        "Waiting on bqjob_r46d7af66323c4ad9_00000147cc18e43f_8 ... (0s) Current status: DONE   \n"
       ]
      },
      {
       "metadata": {},
       "output_type": "display_data",
       "png": "[encoded data removed]",
       "text": [
        "<matplotlib.figure.Figure at 0x7feb5c16b990>"
       ]
      }
     ],
     "prompt_number": 9
    },
    {
     "cell_type": "markdown",
     "metadata": {},
     "source": [
      "What if we only focus on the 30 days previous to January 27th, 2011."
     ]
    },
    {
     "cell_type": "code",
     "collapsed": false,
     "input": [
      "query = \"\"\"\n",
      "  SELECT country, date, c AS count\n",
      "  FROM [gdelt-bq:sample_views.country_date_matconf_numarts] a \n",
      "  CROSS JOIN (SELECT i FROM [fh-bigquery:public_dump.numbers_255] WHERE i < 30) b\n",
      "  WHERE country='Egypt'\n",
      "  AND date+i*86400000000 = PARSE_UTC_USEC('2011-01-27')\n",
      "\"\"\"\n",
      "data_egypt=gbq.read_gbq(query)\n",
      "data_egypt.index=pd.to_datetime(data_egypt['date']*1000)\n",
      "x = data_egypt['count'].plot()"
     ],
     "language": "python",
     "metadata": {},
     "outputs": [
      {
       "output_type": "stream",
       "stream": "stdout",
       "text": [
        "\r",
        "Waiting on bqjob_r2f64a01b0c420ec3_00000147cc356c4a_11 ... (0s) Current status: DONE   \n"
       ]
      },
      {
       "metadata": {},
       "output_type": "display_data",
       "png": "[encoded data removed]",
       "text": [
        "<matplotlib.figure.Figure at 0x7feb5c5fac90>"
       ]
      }
     ],
     "prompt_number": 28
    },
    {
     "cell_type": "markdown",
     "metadata": {},
     "source": [
      "With that timeline defined, we can look for similar timelines across all years and countries.",
      "\n",
      "To make this work, we used the trick explained on http://stackoverflow.com/questions/24923101/computing-a-moving-maximum-in-bigquery/24943950#24943950."
     ]
    },
    {
     "cell_type": "code",
     "collapsed": false,
     "input": [
      "query = \"\"\"\n",
      "SELECT\n",
      "  STRFTIME_UTC_USEC(a.ending_at, \"%Y-%m-%d\") ending_at1,\n",
      "  STRFTIME_UTC_USEC(b.ending_at-30*86400000000, \"%Y-%m-%d\") starting_at2,\n",
      "  STRFTIME_UTC_USEC(b.ending_at, \"%Y-%m-%d\") ending_at2,\n",
      "  a.country, b.country, CORR(a.c, b.c) corr, COUNT(*) c\n",
      "FROM (\n",
      "  SELECT country, date+i*86400000000 ending_at, c, i\n",
      "  FROM [gdelt-bq:sample_views.country_date_matconf_numarts] a \n",
      "  CROSS JOIN (SELECT i FROM [fh-bigquery:public_dump.numbers_255] WHERE i < 30) b\n",
      ") b\n",
      "JOIN (\n",
      "  SELECT country, date+i*86400000000 ending_at, c, i\n",
      "  FROM [gdelt-bq:sample_views.country_date_matconf_numarts] a \n",
      "  CROSS JOIN (SELECT i FROM [fh-bigquery:public_dump.numbers_255] WHERE i < 30) b\n",
      "  WHERE country='Egypt'\n",
      "  AND date+i*86400000000 = PARSE_UTC_USEC('2011-01-27')\n",
      ") a\n",
      "ON a.i=b.i\n",
      "WHERE a.ending_at != b.ending_at\n",
      "GROUP EACH BY ending_at1, ending_at2, starting_at2, a.country, b.country\n",
      "HAVING (c = 30 AND ABS(corr) > 0.254)\n",
      "ORDER BY corr DESC\n",
      "\n",
      "LIMIT 10\n",
      "\"\"\"\n",
      "data=gbq.read_gbq(query)\n",
      "data\n"
     ],
     "language": "python",
     "metadata": {},
     "outputs": [
      {
       "output_type": "stream",
       "stream": "stdout",
       "text": [
        "\r",
        "Waiting on bqjob_r5ccda16b63fbcd4a_00000147cc1a0174_11 ... (3s) Current status: RUNNING "
       ]
      },
      {
       "output_type": "stream",
       "stream": "stdout",
       "text": [
        "\r",
        "Waiting on bqjob_r5ccda16b63fbcd4a_00000147cc1a0174_11 ... (203s) Current status: DONE   \n"
       ]
      },
      {
       "html": [
        "<div style=\"max-height:1000px;max-width:1500px;overflow:auto;\">\n",
        "<table border=\"1\" class=\"dataframe\">\n",
        "  <thead>\n",
        "    <tr style=\"text-align: right;\">\n",
        "      <th></th>\n",
        "      <th>ending_at1</th>\n",
        "      <th>starting_at2</th>\n",
        "      <th>ending_at2</th>\n",
        "      <th>a_country</th>\n",
        "      <th>b_country</th>\n",
        "      <th>corr</th>\n",
        "      <th>c</th>\n",
        "    </tr>\n",
        "  </thead>\n",
        "  <tbody>\n",
        "    <tr>\n",
        "      <th>0</th>\n",
        "      <td> 2011-01-27</td>\n",
        "      <td> 2013-10-19</td>\n",
        "      <td> 2013-11-18</td>\n",
        "      <td> Egypt</td>\n",
        "      <td>        Chad</td>\n",
        "      <td> 0.875190</td>\n",
        "      <td> 30</td>\n",
        "    </tr>\n",
        "    <tr>\n",
        "      <th>1</th>\n",
        "      <td> 2011-01-27</td>\n",
        "      <td> 2011-05-15</td>\n",
        "      <td> 2011-06-14</td>\n",
        "      <td> Egypt</td>\n",
        "      <td>      Jordan</td>\n",
        "      <td> 0.862724</td>\n",
        "      <td> 30</td>\n",
        "    </tr>\n",
        "    <tr>\n",
        "      <th>2</th>\n",
        "      <td> 2011-01-27</td>\n",
        "      <td> 2005-08-07</td>\n",
        "      <td> 2005-09-06</td>\n",
        "      <td> Egypt</td>\n",
        "      <td>      Turkey</td>\n",
        "      <td> 0.856022</td>\n",
        "      <td> 30</td>\n",
        "    </tr>\n",
        "    <tr>\n",
        "      <th>3</th>\n",
        "      <td> 2011-01-27</td>\n",
        "      <td> 2006-10-03</td>\n",
        "      <td> 2006-11-02</td>\n",
        "      <td> Egypt</td>\n",
        "      <td>       Italy</td>\n",
        "      <td> 0.847174</td>\n",
        "      <td> 30</td>\n",
        "    </tr>\n",
        "    <tr>\n",
        "      <th>4</th>\n",
        "      <td> 2011-01-27</td>\n",
        "      <td> 2006-05-29</td>\n",
        "      <td> 2006-06-28</td>\n",
        "      <td> Egypt</td>\n",
        "      <td>       Syria</td>\n",
        "      <td> 0.846571</td>\n",
        "      <td> 30</td>\n",
        "    </tr>\n",
        "    <tr>\n",
        "      <th>5</th>\n",
        "      <td> 2011-01-27</td>\n",
        "      <td> 2013-05-15</td>\n",
        "      <td> 2013-06-14</td>\n",
        "      <td> Egypt</td>\n",
        "      <td> South Korea</td>\n",
        "      <td> 0.842728</td>\n",
        "      <td> 30</td>\n",
        "    </tr>\n",
        "    <tr>\n",
        "      <th>6</th>\n",
        "      <td> 2011-01-27</td>\n",
        "      <td> 1995-06-11</td>\n",
        "      <td> 1995-07-11</td>\n",
        "      <td> Egypt</td>\n",
        "      <td>        Iraq</td>\n",
        "      <td> 0.842362</td>\n",
        "      <td> 30</td>\n",
        "    </tr>\n",
        "    <tr>\n",
        "      <th>7</th>\n",
        "      <td> 2011-01-27</td>\n",
        "      <td> 2011-10-10</td>\n",
        "      <td> 2011-11-09</td>\n",
        "      <td> Egypt</td>\n",
        "      <td>    Portugal</td>\n",
        "      <td> 0.841235</td>\n",
        "      <td> 30</td>\n",
        "    </tr>\n",
        "    <tr>\n",
        "      <th>8</th>\n",
        "      <td> 2011-01-27</td>\n",
        "      <td> 2002-08-04</td>\n",
        "      <td> 2002-09-03</td>\n",
        "      <td> Egypt</td>\n",
        "      <td>       Sudan</td>\n",
        "      <td> 0.835436</td>\n",
        "      <td> 30</td>\n",
        "    </tr>\n",
        "    <tr>\n",
        "      <th>9</th>\n",
        "      <td> 2011-01-27</td>\n",
        "      <td> 2009-08-07</td>\n",
        "      <td> 2009-09-06</td>\n",
        "      <td> Egypt</td>\n",
        "      <td>     Germany</td>\n",
        "      <td> 0.832848</td>\n",
        "      <td> 30</td>\n",
        "    </tr>\n",
        "  </tbody>\n",
        "</table>\n",
        "</div>"
       ],
       "metadata": {},
       "output_type": "pyout",
       "prompt_number": 12,
       "text": [
        "   ending_at1 starting_at2  ending_at2 a_country    b_country      corr   c\n",
        "0  2011-01-27   2013-10-19  2013-11-18     Egypt         Chad  0.875190  30\n",
        "1  2011-01-27   2011-05-15  2011-06-14     Egypt       Jordan  0.862724  30\n",
        "2  2011-01-27   2005-08-07  2005-09-06     Egypt       Turkey  0.856022  30\n",
        "3  2011-01-27   2006-10-03  2006-11-02     Egypt        Italy  0.847174  30\n",
        "4  2011-01-27   2006-05-29  2006-06-28     Egypt        Syria  0.846571  30\n",
        "5  2011-01-27   2013-05-15  2013-06-14     Egypt  South Korea  0.842728  30\n",
        "6  2011-01-27   1995-06-11  1995-07-11     Egypt         Iraq  0.842362  30\n",
        "7  2011-01-27   2011-10-10  2011-11-09     Egypt     Portugal  0.841235  30\n",
        "8  2011-01-27   2002-08-04  2002-09-03     Egypt        Sudan  0.835436  30\n",
        "9  2011-01-27   2009-08-07  2009-09-06     Egypt      Germany  0.832848  30"
       ]
      }
     ],
     "prompt_number": 12
    },
    {
     "cell_type": "markdown",
     "metadata": {},
     "source": [
      "Those are the 10 periods that most closely resemble the timeline of material conflicts in Egypt before January 27th, 2011.\n",
      "\n",
      "Let's plot Chad 30 days before October 19th, 2013."
     ]
    },
    {
     "cell_type": "code",
     "collapsed": false,
     "input": [
      "query = \"\"\"\n",
      "  SELECT country, date, c AS count\n",
      "  FROM [gdelt-bq:sample_views.country_date_matconf_numarts] a \n",
      "  CROSS JOIN (SELECT i FROM [fh-bigquery:public_dump.numbers_255] WHERE i < 30) b\n",
      "  WHERE country='Chad'\n",
      "  AND date+i*86400000000 = PARSE_UTC_USEC('2013-11-18')\n",
      "\"\"\"\n",
      "data_chad=gbq.read_gbq(query)\n",
      "data_chad.index=pd.to_datetime(data_chad['date']*1000)\n",
      "data_chad['count'].plot()"
     ],
     "language": "python",
     "metadata": {},
     "outputs": [
      {
       "output_type": "stream",
       "stream": "stdout",
       "text": [
        "\r",
        "Waiting on bqjob_r39c0b56b485a6249_00000147cc384b90_16 ... (0s) Current status: DONE   \n"
       ]
      },
      {
       "metadata": {},
       "output_type": "pyout",
       "prompt_number": 34,
       "text": [
        "<matplotlib.axes.AxesSubplot at 0x7feb5c1ecbd0>"
       ]
      },
      {
       "metadata": {},
       "output_type": "display_data",
       "png": "[encoded data removed]",
       "text": [
        "<matplotlib.figure.Figure at 0x7feb5c1f6290>"
       ]
      }
     ],
     "prompt_number": 34
    },
    {
     "cell_type": "markdown",
     "metadata": {},
     "source": [
      "In fact, both periods look remarkably similar (but not necesarily significant, more analysis is needed before reaching any conclusions):"
     ]
    },
    {
     "cell_type": "code",
     "collapsed": false,
     "input": [
      "data_egypt['count'].plot()"
     ],
     "language": "python",
     "metadata": {},
     "outputs": [
      {
       "metadata": {},
       "output_type": "pyout",
       "prompt_number": 33,
       "text": [
        "<matplotlib.axes.AxesSubplot at 0x7feb5cd93890>"
       ]
      },
      {
       "metadata": {},
       "output_type": "display_data",
       "png": "[encoded data removed]",
       "text": [
        "<matplotlib.figure.Figure at 0x7feb5cb6a990>"
       ]
      }
     ],
     "prompt_number": 33
    },
    {
     "cell_type": "markdown",
     "metadata": {},
     "source": [
      "To look further into how to read these results to understand history, look at:\n\n",
      "* Kalev Leetaru's [GDELT correlations post](http://blog.gdeltproject.org/towards-psychohistory-uncovering-the-patterns-of-world-history-with-google-bigquery/).\n",
      "* Andrew Gelman's [counterpoint](http://andrewgelman.com/2014/08/15/psychohistory-hype-paradox/).\n",
      "* Anthony A. Boyles's [counterpoint](http://aaboyles.com/2014/08/access-event-data-in-google-bigquery-from-r/).\n",
      "\n",
      "\n",
      "By [Felipe Hoffa](https://plus.google.com/+FelipeHoffa/)\n",
      "([@felipehoffa](http://twitter.com/felipehoffa), [/r/bigquery](http://reddit.com/r/bigquery))"
     ]
    }
   ],
   "metadata": {}
  }
 ]
}
